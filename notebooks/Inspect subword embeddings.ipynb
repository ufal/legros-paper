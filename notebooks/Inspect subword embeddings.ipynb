{
 "cells": [
  {
   "cell_type": "code",
   "execution_count": 1,
   "id": "a75622a4",
   "metadata": {},
   "outputs": [],
   "source": [
    "FASTTEXT_MODEL = \"/lnet/troja/projects/neuralpiece/data/czeng.cs.lc.fasttext\"\n",
    "EMBEDDINGS = \"/lnet/troja/projects/neuralpiece/out_nosample/subword_embeddings.00.txt\"\n",
    "SUBWORD_VOCAB = \"/lnet/troja/projects/neuralpiece/out_nosample/subwords.00\""
   ]
  },
  {
   "cell_type": "code",
   "execution_count": 2,
   "id": "2a1e207d",
   "metadata": {},
   "outputs": [],
   "source": [
    "import numpy as np\n",
    "from gensim.models.fasttext import FastText"
   ]
  },
  {
   "cell_type": "code",
   "execution_count": 3,
   "id": "f6680f76",
   "metadata": {},
   "outputs": [
    {
     "ename": "FileNotFoundError",
     "evalue": "[Errno 2] No such file or directory: '/lnet/troja/projects/neuralpiece/data/czeng.cs.lc.fasttext'",
     "output_type": "error",
     "traceback": [
      "\u001b[0;31m---------------------------------------------------------------------------\u001b[0m",
      "\u001b[0;31mFileNotFoundError\u001b[0m                         Traceback (most recent call last)",
      "\u001b[0;32m/tmp/ipykernel_2933056/2841079087.py\u001b[0m in \u001b[0;36m<module>\u001b[0;34m\u001b[0m\n\u001b[0;32m----> 1\u001b[0;31m \u001b[0mfasttext\u001b[0m \u001b[0;34m=\u001b[0m \u001b[0mFastText\u001b[0m\u001b[0;34m.\u001b[0m\u001b[0mload\u001b[0m\u001b[0;34m(\u001b[0m\u001b[0mFASTTEXT_MODEL\u001b[0m\u001b[0;34m)\u001b[0m\u001b[0;34m\u001b[0m\u001b[0m\n\u001b[0m",
      "\u001b[0;32m/lnet/work/people/helcl/virtualenv/anlp-37/lib/python3.7/site-packages/gensim/models/fasttext.py\u001b[0m in \u001b[0;36mload\u001b[0;34m(cls, *args, **kwargs)\u001b[0m\n\u001b[1;32m    635\u001b[0m \u001b[0;34m\u001b[0m\u001b[0m\n\u001b[1;32m    636\u001b[0m         \"\"\"\n\u001b[0;32m--> 637\u001b[0;31m         \u001b[0;32mreturn\u001b[0m \u001b[0msuper\u001b[0m\u001b[0;34m(\u001b[0m\u001b[0mFastText\u001b[0m\u001b[0;34m,\u001b[0m \u001b[0mcls\u001b[0m\u001b[0;34m)\u001b[0m\u001b[0;34m.\u001b[0m\u001b[0mload\u001b[0m\u001b[0;34m(\u001b[0m\u001b[0;34m*\u001b[0m\u001b[0margs\u001b[0m\u001b[0;34m,\u001b[0m \u001b[0mrethrow\u001b[0m\u001b[0;34m=\u001b[0m\u001b[0;32mTrue\u001b[0m\u001b[0;34m,\u001b[0m \u001b[0;34m**\u001b[0m\u001b[0mkwargs\u001b[0m\u001b[0;34m)\u001b[0m\u001b[0;34m\u001b[0m\u001b[0m\n\u001b[0m\u001b[1;32m    638\u001b[0m \u001b[0;34m\u001b[0m\u001b[0m\n\u001b[1;32m    639\u001b[0m     \u001b[0;32mdef\u001b[0m \u001b[0m_load_specials\u001b[0m\u001b[0;34m(\u001b[0m\u001b[0mself\u001b[0m\u001b[0;34m,\u001b[0m \u001b[0;34m*\u001b[0m\u001b[0margs\u001b[0m\u001b[0;34m,\u001b[0m \u001b[0;34m**\u001b[0m\u001b[0mkwargs\u001b[0m\u001b[0;34m)\u001b[0m\u001b[0;34m:\u001b[0m\u001b[0;34m\u001b[0m\u001b[0m\n",
      "\u001b[0;32m/lnet/work/people/helcl/virtualenv/anlp-37/lib/python3.7/site-packages/gensim/models/word2vec.py\u001b[0m in \u001b[0;36mload\u001b[0;34m(cls, rethrow, *args, **kwargs)\u001b[0m\n\u001b[1;32m   1937\u001b[0m         \"\"\"\n\u001b[1;32m   1938\u001b[0m         \u001b[0;32mtry\u001b[0m\u001b[0;34m:\u001b[0m\u001b[0;34m\u001b[0m\u001b[0m\n\u001b[0;32m-> 1939\u001b[0;31m             \u001b[0mmodel\u001b[0m \u001b[0;34m=\u001b[0m \u001b[0msuper\u001b[0m\u001b[0;34m(\u001b[0m\u001b[0mWord2Vec\u001b[0m\u001b[0;34m,\u001b[0m \u001b[0mcls\u001b[0m\u001b[0;34m)\u001b[0m\u001b[0;34m.\u001b[0m\u001b[0mload\u001b[0m\u001b[0;34m(\u001b[0m\u001b[0;34m*\u001b[0m\u001b[0margs\u001b[0m\u001b[0;34m,\u001b[0m \u001b[0;34m**\u001b[0m\u001b[0mkwargs\u001b[0m\u001b[0;34m)\u001b[0m\u001b[0;34m\u001b[0m\u001b[0m\n\u001b[0m\u001b[1;32m   1940\u001b[0m             \u001b[0;32mif\u001b[0m \u001b[0;32mnot\u001b[0m \u001b[0misinstance\u001b[0m\u001b[0;34m(\u001b[0m\u001b[0mmodel\u001b[0m\u001b[0;34m,\u001b[0m \u001b[0mWord2Vec\u001b[0m\u001b[0;34m)\u001b[0m\u001b[0;34m:\u001b[0m\u001b[0;34m\u001b[0m\u001b[0m\n\u001b[1;32m   1941\u001b[0m                 \u001b[0mrethrow\u001b[0m \u001b[0;34m=\u001b[0m \u001b[0;32mTrue\u001b[0m\u001b[0;34m\u001b[0m\u001b[0m\n",
      "\u001b[0;32m/lnet/work/people/helcl/virtualenv/anlp-37/lib/python3.7/site-packages/gensim/utils.py\u001b[0m in \u001b[0;36mload\u001b[0;34m(cls, fname, mmap)\u001b[0m\n\u001b[1;32m    484\u001b[0m         \u001b[0mcompress\u001b[0m\u001b[0;34m,\u001b[0m \u001b[0msubname\u001b[0m \u001b[0;34m=\u001b[0m \u001b[0mSaveLoad\u001b[0m\u001b[0;34m.\u001b[0m\u001b[0m_adapt_by_suffix\u001b[0m\u001b[0;34m(\u001b[0m\u001b[0mfname\u001b[0m\u001b[0;34m)\u001b[0m\u001b[0;34m\u001b[0m\u001b[0m\n\u001b[1;32m    485\u001b[0m \u001b[0;34m\u001b[0m\u001b[0m\n\u001b[0;32m--> 486\u001b[0;31m         \u001b[0mobj\u001b[0m \u001b[0;34m=\u001b[0m \u001b[0munpickle\u001b[0m\u001b[0;34m(\u001b[0m\u001b[0mfname\u001b[0m\u001b[0;34m)\u001b[0m\u001b[0;34m\u001b[0m\u001b[0m\n\u001b[0m\u001b[1;32m    487\u001b[0m         \u001b[0mobj\u001b[0m\u001b[0;34m.\u001b[0m\u001b[0m_load_specials\u001b[0m\u001b[0;34m(\u001b[0m\u001b[0mfname\u001b[0m\u001b[0;34m,\u001b[0m \u001b[0mmmap\u001b[0m\u001b[0;34m,\u001b[0m \u001b[0mcompress\u001b[0m\u001b[0;34m,\u001b[0m \u001b[0msubname\u001b[0m\u001b[0;34m)\u001b[0m\u001b[0;34m\u001b[0m\u001b[0m\n\u001b[1;32m    488\u001b[0m         \u001b[0mobj\u001b[0m\u001b[0;34m.\u001b[0m\u001b[0madd_lifecycle_event\u001b[0m\u001b[0;34m(\u001b[0m\u001b[0;34m\"loaded\"\u001b[0m\u001b[0;34m,\u001b[0m \u001b[0mfname\u001b[0m\u001b[0;34m=\u001b[0m\u001b[0mfname\u001b[0m\u001b[0;34m)\u001b[0m\u001b[0;34m\u001b[0m\u001b[0m\n",
      "\u001b[0;32m/lnet/work/people/helcl/virtualenv/anlp-37/lib/python3.7/site-packages/gensim/utils.py\u001b[0m in \u001b[0;36munpickle\u001b[0;34m(fname)\u001b[0m\n\u001b[1;32m   1458\u001b[0m \u001b[0;34m\u001b[0m\u001b[0m\n\u001b[1;32m   1459\u001b[0m     \"\"\"\n\u001b[0;32m-> 1460\u001b[0;31m     \u001b[0;32mwith\u001b[0m \u001b[0mopen\u001b[0m\u001b[0;34m(\u001b[0m\u001b[0mfname\u001b[0m\u001b[0;34m,\u001b[0m \u001b[0;34m'rb'\u001b[0m\u001b[0;34m)\u001b[0m \u001b[0;32mas\u001b[0m \u001b[0mf\u001b[0m\u001b[0;34m:\u001b[0m\u001b[0;34m\u001b[0m\u001b[0m\n\u001b[0m\u001b[1;32m   1461\u001b[0m         \u001b[0;32mreturn\u001b[0m \u001b[0m_pickle\u001b[0m\u001b[0;34m.\u001b[0m\u001b[0mload\u001b[0m\u001b[0;34m(\u001b[0m\u001b[0mf\u001b[0m\u001b[0;34m,\u001b[0m \u001b[0mencoding\u001b[0m\u001b[0;34m=\u001b[0m\u001b[0;34m'latin1'\u001b[0m\u001b[0;34m)\u001b[0m  \u001b[0;31m# needed because loading from S3 doesn't support readline()\u001b[0m\u001b[0;34m\u001b[0m\u001b[0m\n\u001b[1;32m   1462\u001b[0m \u001b[0;34m\u001b[0m\u001b[0m\n",
      "\u001b[0;32m/lnet/work/people/helcl/virtualenv/anlp-37/lib/python3.7/site-packages/smart_open/smart_open_lib.py\u001b[0m in \u001b[0;36mopen\u001b[0;34m(uri, mode, buffering, encoding, errors, newline, closefd, opener, compression, transport_params)\u001b[0m\n\u001b[1;32m    182\u001b[0m         \u001b[0mencoding\u001b[0m\u001b[0;34m=\u001b[0m\u001b[0mencoding\u001b[0m\u001b[0;34m,\u001b[0m\u001b[0;34m\u001b[0m\u001b[0m\n\u001b[1;32m    183\u001b[0m         \u001b[0merrors\u001b[0m\u001b[0;34m=\u001b[0m\u001b[0merrors\u001b[0m\u001b[0;34m,\u001b[0m\u001b[0;34m\u001b[0m\u001b[0m\n\u001b[0;32m--> 184\u001b[0;31m         \u001b[0mnewline\u001b[0m\u001b[0;34m=\u001b[0m\u001b[0mnewline\u001b[0m\u001b[0;34m,\u001b[0m\u001b[0;34m\u001b[0m\u001b[0m\n\u001b[0m\u001b[1;32m    185\u001b[0m     )\n\u001b[1;32m    186\u001b[0m     \u001b[0;32mif\u001b[0m \u001b[0mfobj\u001b[0m \u001b[0;32mis\u001b[0m \u001b[0;32mnot\u001b[0m \u001b[0;32mNone\u001b[0m\u001b[0;34m:\u001b[0m\u001b[0;34m\u001b[0m\u001b[0m\n",
      "\u001b[0;32m/lnet/work/people/helcl/virtualenv/anlp-37/lib/python3.7/site-packages/smart_open/smart_open_lib.py\u001b[0m in \u001b[0;36m_shortcut_open\u001b[0;34m(uri, mode, compression, buffering, encoding, errors, newline)\u001b[0m\n\u001b[1;32m    361\u001b[0m         \u001b[0mopen_kwargs\u001b[0m\u001b[0;34m[\u001b[0m\u001b[0;34m'errors'\u001b[0m\u001b[0;34m]\u001b[0m \u001b[0;34m=\u001b[0m \u001b[0merrors\u001b[0m\u001b[0;34m\u001b[0m\u001b[0m\n\u001b[1;32m    362\u001b[0m \u001b[0;34m\u001b[0m\u001b[0m\n\u001b[0;32m--> 363\u001b[0;31m     \u001b[0;32mreturn\u001b[0m \u001b[0m_builtin_open\u001b[0m\u001b[0;34m(\u001b[0m\u001b[0mlocal_path\u001b[0m\u001b[0;34m,\u001b[0m \u001b[0mmode\u001b[0m\u001b[0;34m,\u001b[0m \u001b[0mbuffering\u001b[0m\u001b[0;34m=\u001b[0m\u001b[0mbuffering\u001b[0m\u001b[0;34m,\u001b[0m \u001b[0;34m**\u001b[0m\u001b[0mopen_kwargs\u001b[0m\u001b[0;34m)\u001b[0m\u001b[0;34m\u001b[0m\u001b[0m\n\u001b[0m\u001b[1;32m    364\u001b[0m \u001b[0;34m\u001b[0m\u001b[0m\n\u001b[1;32m    365\u001b[0m \u001b[0;34m\u001b[0m\u001b[0m\n",
      "\u001b[0;31mFileNotFoundError\u001b[0m: [Errno 2] No such file or directory: '/lnet/troja/projects/neuralpiece/data/czeng.cs.lc.fasttext'"
     ]
    }
   ],
   "source": [
    "fasttext = FastText.load(FASTTEXT_MODEL)"
   ]
  },
  {
   "cell_type": "code",
   "execution_count": 4,
   "id": "e5f0baa9",
   "metadata": {},
   "outputs": [],
   "source": [
    "subword_embeddings = np.loadtxt(EMBEDDINGS)"
   ]
  },
  {
   "cell_type": "code",
   "execution_count": 5,
   "id": "801bc388",
   "metadata": {},
   "outputs": [],
   "source": [
    "subword_vocab = []\n",
    "with open(SUBWORD_VOCAB) as f_sub:\n",
    "    for line in f_sub:\n",
    "        subword_vocab.append(line.strip())\n",
    "subword2idx = {sbwrd: i for i, sbwrd in enumerate(subword_vocab)}"
   ]
  },
  {
   "cell_type": "code",
   "execution_count": 6,
   "id": "55f7d4a7",
   "metadata": {},
   "outputs": [],
   "source": [
    "SUBSTR_CACHE = {}\n",
    "\n",
    "def get_substrings(word, max_len=10):\n",
    "    if word in SUBSTR_CACHE:\n",
    "        return SUBSTR_CACHE[word]\n",
    "  \n",
    "    substrings = []\n",
    "    for sub_len in range(1, min(len(word), max_len) + 1): \n",
    "        for i in range(0, len(word) - sub_len + 1): \n",
    "            substr = word[i:i + sub_len]\n",
    "            if substr in subword2idx:\n",
    "                substrings.append(substr)\n",
    "    SUBSTR_CACHE[word] = substrings\n",
    "    return substrings"
   ]
  },
  {
   "cell_type": "code",
   "execution_count": 7,
   "id": "d4ca17db",
   "metadata": {},
   "outputs": [
    {
     "data": {
      "text/plain": [
       "['b',\n",
       " 'o',\n",
       " 'h',\n",
       " 'y',\n",
       " 'n',\n",
       " 'ě',\n",
       " 'bo',\n",
       " 'oh',\n",
       " 'hy',\n",
       " 'yn',\n",
       " 'ně',\n",
       " 'boh',\n",
       " 'ohy',\n",
       " 'hyn',\n",
       " 'yně',\n",
       " 'bohy',\n",
       " 'ohyn',\n",
       " 'hyně',\n",
       " 'bohyn',\n",
       " 'ohyně',\n",
       " 'bohyně']"
      ]
     },
     "execution_count": 7,
     "metadata": {},
     "output_type": "execute_result"
    }
   ],
   "source": [
    "get_substrings(\"bohyně\")"
   ]
  },
  {
   "cell_type": "code",
   "execution_count": 8,
   "id": "b413939e",
   "metadata": {},
   "outputs": [
    {
     "data": {
      "text/plain": [
       "['e', 'a', 'o', 'i', 'í']"
      ]
     },
     "execution_count": 8,
     "metadata": {},
     "output_type": "execute_result"
    }
   ],
   "source": [
    "subword_vocab[0:5]"
   ]
  },
  {
   "cell_type": "code",
   "execution_count": 9,
   "id": "c4b6dbe6",
   "metadata": {},
   "outputs": [],
   "source": [
    "from scipy.spatial import distance\n",
    "def score_words_subwords(word):\n",
    "    vector = fasttext.wv[word]\n",
    "    subwords = get_substrings(word)\n",
    "    subword_scores = [1 - distance.cosine(vector, subword_embeddings[subword2idx[substr]]) for substr in subwords]\n",
    "        \n",
    "    return sorted(zip(subwords, subword_scores), key=lambda x: -x[1])"
   ]
  },
  {
   "cell_type": "code",
   "execution_count": 10,
   "id": "319d135f",
   "metadata": {},
   "outputs": [
    {
     "data": {
      "text/plain": [
       "[('okej', 0.5387656218362069),\n",
       " ('hoke', 0.5381985294810631),\n",
       " ('hokej', 0.538123337319575),\n",
       " ('kej', 0.5137320840094882),\n",
       " ('hok', 0.4997065823654565),\n",
       " ('ista', 0.4950580548752803),\n",
       " ('oke', 0.46147526352534374),\n",
       " ('hokeji', 0.44656221404446383),\n",
       " ('okeji', 0.4464365404902182),\n",
       " ('keji', 0.4463839787790089),\n",
       " ('kejist', 0.43510503931035194),\n",
       " ('kejis', 0.4351048881357409),\n",
       " ('okejist', 0.43510383142185094),\n",
       " ('hokejist', 0.43510383142185094),\n",
       " ('okejis', 0.4351037756884848),\n",
       " ('hokejis', 0.4351037756884848),\n",
       " ('ejis', 0.4111547016544026),\n",
       " ('ejist', 0.4111029570416187),\n",
       " ('jista', 0.3428880205420658),\n",
       " ('ke', 0.3428178899701393),\n",
       " ('ejista', 0.3402602077507616),\n",
       " ('kejista', 0.3390162089701769),\n",
       " ('okejista', 0.3390162089701769),\n",
       " ('jis', 0.3381212525617786),\n",
       " ('jist', 0.3358093593863216),\n",
       " ('ist', 0.3338906136469849),\n",
       " ('ok', 0.3281772565348855),\n",
       " ('ej', 0.31685628383078446),\n",
       " ('sta', 0.3082406762617851),\n",
       " ('is', 0.2994437159888421),\n",
       " ('ji', 0.2965662964116653),\n",
       " ('ta', 0.28697237364957395),\n",
       " ('j', 0.2789172352075082),\n",
       " ('ho', 0.2767865013419357),\n",
       " ('k', 0.2763307161747317),\n",
       " ('t', 0.2680240242185148),\n",
       " ('h', 0.267163073188899),\n",
       " ('st', 0.2663560288958673),\n",
       " ('e', 0.26505524235478806),\n",
       " ('s', 0.26427255937761374),\n",
       " ('o', 0.2638786357474724),\n",
       " ('a', 0.26096374881686424),\n",
       " ('i', 0.2584203226484313),\n",
       " ('eji', 0.24481537955462707)]"
      ]
     },
     "execution_count": 10,
     "metadata": {},
     "output_type": "execute_result"
    }
   ],
   "source": [
    "score_words_subwords(\"hokejista\")"
   ]
  },
  {
   "cell_type": "code",
   "execution_count": 11,
   "id": "e93deb69",
   "metadata": {},
   "outputs": [],
   "source": [
    "from sklearn.neighbors import NearestNeighbors"
   ]
  },
  {
   "cell_type": "code",
   "execution_count": 12,
   "id": "0669ae17",
   "metadata": {},
   "outputs": [],
   "source": [
    "neigh = NearestNeighbors(n_neighbors=15, metric='cosine', radius=0.4)\n",
    "neigh.fit(subword_embeddings)\n",
    "def words_subword_neighbor(word):\n",
    "    dist, idx = neigh.kneighbors([fasttext.wv[word]], 15, return_distance=True)\n",
    "    return([(subword_vocab[i], i, d) for i, d in zip(idx[0], dist[0])])"
   ]
  },
  {
   "cell_type": "code",
   "execution_count": 13,
   "id": "4baf77dc",
   "metadata": {},
   "outputs": [
    {
     "data": {
      "text/plain": [
       "[('hoke', 12922, 0.5018756418699996),\n",
       " ('hokej', 8854, 0.501953737112405),\n",
       " ('okej', 7706, 0.502786900498497),\n",
       " ('kej', 5277, 0.520176339821193),\n",
       " ('zápas', 2270, 0.5364101806778853),\n",
       " ('ápas', 1913, 0.5364101917914591),\n",
       " ('hok', 9756, 0.5447219618194686),\n",
       " ('tbal', 5384, 0.5469650896529104),\n",
       " ('hráč', 3701, 0.5473802733804807),\n",
       " ('klu', 4470, 0.551055699883775),\n",
       " ('ráč', 3021, 0.5551500216802667),\n",
       " ('tba', 6392, 0.5555692977968594),\n",
       " ('fotb', 9692, 0.557380654169357),\n",
       " ('otb', 9639, 0.5577641542782832),\n",
       " ('fotba', 9721, 0.55841467856955)]"
      ]
     },
     "execution_count": 13,
     "metadata": {},
     "output_type": "execute_result"
    }
   ],
   "source": [
    "words_subword_neighbor(\"hokej\")"
   ]
  },
  {
   "cell_type": "code",
   "execution_count": 37,
   "id": "3c7f3c7c",
   "metadata": {},
   "outputs": [],
   "source": [
    "neigh_word = NearestNeighbors(n_neighbors=15, metric='cosine', radius=0.4)\n",
    "neigh_word.fit(fasttext.wv.vectors)\n",
    "def subwords_word_neighbor(subword):\n",
    "    dist, idx = neigh_word.kneighbors([subword_embeddings[subword2idx[subword]]], 15, return_distance=True)\n",
    "    return([(fasttext.wv.index_to_key[i], i, d) for i, d in zip(idx[0], dist[0])])\n"
   ]
  },
  {
   "cell_type": "code",
   "execution_count": 39,
   "id": "2c81158d",
   "metadata": {},
   "outputs": [
    {
     "data": {
      "text/plain": [
       "[(',', 0, 0.35515189404199177),\n",
       " ('.', 1, 0.42521785749897933),\n",
       " ('fotografie.autor', 184324, 0.4442394900927684),\n",
       " ('monsivais', 192770, 0.458302724825445),\n",
       " ('vojinovic', 195879, 0.4621077680007388),\n",
       " ('fotografie.foto', 149119, 0.4630778352283317),\n",
       " ('sportfotodienst', 78597, 0.4658188801112991),\n",
       " ('lovetsky', 169858, 0.46880309021851996),\n",
       " ('¨', 33903, 0.4748163206401683),\n",
       " ('wijngaert', 185098, 0.47533954170381754),\n",
       " ('wigglesworth', 173726, 0.48167438516393435),\n",
       " ('aflo', 166335, 0.48643437946279644),\n",
       " ('jdem.cz', 84367, 0.4899041306430938),\n",
       " (';', 520, 0.4914034881774495),\n",
       " ('Černyševova', 167133, 0.4921384856956448)]"
      ]
     },
     "execution_count": 39,
     "metadata": {},
     "output_type": "execute_result"
    }
   ],
   "source": [
    "subwords_word_neighbor(\"al\")"
   ]
  },
  {
   "cell_type": "code",
   "execution_count": 123,
   "id": "909c8680",
   "metadata": {},
   "outputs": [
    {
     "data": {
      "text/plain": [
       "[(',', 0, 0.3416288854144136),\n",
       " ('.', 1, 0.3813665153424428),\n",
       " ('fotografie.autor', 184324, 0.45086635083753124),\n",
       " ('(', 22, 0.45106032543232266),\n",
       " ('14-Čr', 169633, 0.45603927229756525),\n",
       " ('10-usa', 188593, 0.4636186492685056),\n",
       " ('monsivais', 192770, 0.4644338161419529),\n",
       " (';', 520, 0.466182897499972),\n",
       " ('14-rus', 159766, 0.4669639501837155),\n",
       " ('jdem.cz', 84367, 0.46839445392672185),\n",
       " ('vojinovic', 195879, 0.46848098869754196),\n",
       " ('karabükspor', 191652, 0.4701720998358283),\n",
       " ('Černyševova', 167133, 0.4703040102095488),\n",
       " ('akhisar', 164045, 0.4713175818139965),\n",
       " ('fotografie.foto', 149119, 0.472464186033523)]"
      ]
     },
     "execution_count": 123,
     "metadata": {},
     "output_type": "execute_result"
    }
   ],
   "source": [
    "subwords_word_neighbor(\".\")"
   ]
  },
  {
   "cell_type": "code",
   "execution_count": 41,
   "id": "cbe761ff",
   "metadata": {},
   "outputs": [
    {
     "data": {
      "text/plain": [
       "['18.230',\n",
       " 'oprandiová',\n",
       " '16.839',\n",
       " 'linetteová',\n",
       " 'wickmayerová',\n",
       " '18.532',\n",
       " 'gringore',\n",
       " 'condra',\n",
       " '17.113',\n",
       " 'rukolou',\n",
       " '19.289',\n",
       " 'baldassarri',\n",
       " 'govorcovová',\n",
       " 'moorks',\n",
       " 'paszeková']"
      ]
     },
     "execution_count": 41,
     "metadata": {},
     "output_type": "execute_result"
    }
   ],
   "source": [
    "avg = fasttext.wv.vectors.sum(0)\n",
    "[fasttext.wv.index_to_key[i] for i in neigh_word.kneighbors([avg], 15, return_distance=False)[0]]"
   ]
  },
  {
   "cell_type": "code",
   "execution_count": 122,
   "id": "de1d61fe",
   "metadata": {},
   "outputs": [
    {
     "data": {
      "text/plain": [
       "[('dodal', 2213, 0.3262356898551284),\n",
       " ('odal', 1414, 0.3378039212625138),\n",
       " ('doda', 5463, 0.3443870723480196),\n",
       " ('doplnil', 14949, 0.34783080969313174),\n",
       " ('oplnil', 10974, 0.34783080969313174),\n",
       " ('oplni', 21346, 0.3511172259900821),\n",
       " ('doplni', 21351, 0.35115261834746336),\n",
       " ('ky.cz', 3921, 0.3589692034097457),\n",
       " ('ky.c', 13961, 0.3589702001739542),\n",
       " ('ky.', 13513, 0.35932444928878593),\n",
       " ('y.cz', 2960, 0.3606077601019242),\n",
       " ('inky.', 18216, 0.3606203382295998),\n",
       " ('nky.', 18128, 0.3606691076784574),\n",
       " ('y.c', 12955, 0.3606800975293718),\n",
       " ('inky.cz', 9892, 0.36070116668303887)]"
      ]
     },
     "execution_count": 122,
     "metadata": {},
     "output_type": "execute_result"
    }
   ],
   "source": [
    "words_subword_neighbor(\".\")"
   ]
  },
  {
   "cell_type": "code",
   "execution_count": 15,
   "id": "950615d7",
   "metadata": {},
   "outputs": [
    {
     "data": {
      "text/plain": [
       "[('strom', 15925, 0.5959826226345131),\n",
       " ('vka', 2041, 0.6063627883274925),\n",
       " ('trom', 12574, 0.6107001735467371),\n",
       " ('zele', 15195, 0.6141099859320901),\n",
       " ('tráv', 14218, 0.6168458567483815),\n",
       " ('zelen', 15928, 0.618660639763914),\n",
       " ('ička', 2591, 0.6187618645902503),\n",
       " ('rostl', 8803, 0.6189336155594285),\n",
       " ('ostl', 7648, 0.6202619039215742),\n",
       " ('slun', 22266, 0.6202698300668059),\n",
       " ('čka', 778, 0.6256985633389611),\n",
       " ('tlin', 23450, 0.6273565514107209),\n",
       " ('pís', 11778, 0.6290883701680853),\n",
       " ('ploc', 28313, 0.6291485825504466),\n",
       " ('zahrad', 20373, 0.6292947841623461)]"
      ]
     },
     "execution_count": 15,
     "metadata": {},
     "output_type": "execute_result"
    }
   ],
   "source": [
    "words_subword_neighbor(\"tráva\")"
   ]
  },
  {
   "cell_type": "code",
   "execution_count": 44,
   "id": "f1f2e72b",
   "metadata": {},
   "outputs": [
    {
     "data": {
      "text/plain": [
       "[('požívali', 0.7996586561203003),\n",
       " ('požívá', 0.7707567811012268),\n",
       " ('požívat', 0.7109697461128235),\n",
       " ('požívají', 0.6895473003387451),\n",
       " ('požívající', 0.6842960715293884),\n",
       " ('užíval', 0.638585090637207),\n",
       " ('konzumoval', 0.6023831963539124),\n",
       " ('pěstoval', 0.5836661458015442),\n",
       " ('dopřával', 0.5830966234207153),\n",
       " ('využíval', 0.5762752294540405)]"
      ]
     },
     "execution_count": 44,
     "metadata": {},
     "output_type": "execute_result"
    }
   ],
   "source": [
    "fasttext.wv.most_similar(\"požíval\")"
   ]
  },
  {
   "cell_type": "code",
   "execution_count": 44,
   "id": "32baeb52",
   "metadata": {},
   "outputs": [
    {
     "ename": "ImportError",
     "evalue": "cannot import name 'forward_backward' from 'neuralpiece.unigram_segment' (/lnet/troja/projects/neuralpiece/notebooks/neuralpiece/unigram_segment.py)",
     "output_type": "error",
     "traceback": [
      "\u001b[0;31m---------------------------------------------------------------------------\u001b[0m",
      "\u001b[0;31mImportError\u001b[0m                               Traceback (most recent call last)",
      "Cell \u001b[0;32mIn [44], line 1\u001b[0m\n\u001b[0;32m----> 1\u001b[0m \u001b[38;5;28;01mfrom\u001b[39;00m \u001b[38;5;21;01mneuralpiece\u001b[39;00m\u001b[38;5;21;01m.\u001b[39;00m\u001b[38;5;21;01munigram_segment\u001b[39;00m \u001b[38;5;28;01mimport\u001b[39;00m viterbi_segment, forward_backward\n\u001b[1;32m      2\u001b[0m \u001b[38;5;28;01mfrom\u001b[39;00m \u001b[38;5;21;01mscipy\u001b[39;00m\u001b[38;5;21;01m.\u001b[39;00m\u001b[38;5;21;01mspecial\u001b[39;00m \u001b[38;5;28;01mimport\u001b[39;00m log_softmax, logsumexp\n",
      "\u001b[0;31mImportError\u001b[0m: cannot import name 'forward_backward' from 'neuralpiece.unigram_segment' (/lnet/troja/projects/neuralpiece/notebooks/neuralpiece/unigram_segment.py)"
     ]
    }
   ],
   "source": [
    "from neuralpiece.unigram_segment import viterbi_segment\n",
    "from scipy.special import log_softmax, logsumexp"
   ]
  },
  {
   "cell_type": "code",
   "execution_count": 35,
   "id": "cdd12625",
   "metadata": {},
   "outputs": [],
   "source": [
    "def try_segment(word, n_samples=200):\n",
    "    vector = fasttext.wv[word]\n",
    "    subwords = get_substrings(word)\n",
    "        \n",
    "    #subword_scores = {\n",
    "    #    substr: -distance.cosine(vector, subword_embeddings[subword2idx[substr]])\n",
    "    #    for substr in subwords}\n",
    "    \n",
    "    subword_scores = {\n",
    "        substr: vector.dot(subword_embeddings[subword2idx[substr]])\n",
    "        for substr in subwords\n",
    "    }\n",
    "    normalizer = logsumexp(list(subword_scores.values()))\n",
    "    for substr in subwords:\n",
    "        subword_scores[substr] -= normalizer\n",
    "    \n",
    "    \n",
    "    def seg():\n",
    "        seg, score = viterbi_segment(word, subword_scores, sample=n_samples > 1)\n",
    "        return \" \".join(seg), score #/ len(seg)\n",
    "    \n",
    "    return sorted(set([seg() for _ in range(n_samples)]), key=lambda x: -x[1])"
   ]
  },
  {
   "cell_type": "code",
   "execution_count": 46,
   "id": "60382c52",
   "metadata": {},
   "outputs": [
    {
     "ename": "ImportError",
     "evalue": "cannot import name 'expected_counts' from 'neuralpiece.forward_backward' (/lnet/troja/projects/neuralpiece/notebooks/neuralpiece/forward_backward.py)",
     "output_type": "error",
     "traceback": [
      "\u001b[0;31m---------------------------------------------------------------------------\u001b[0m",
      "\u001b[0;31mImportError\u001b[0m                               Traceback (most recent call last)",
      "Cell \u001b[0;32mIn [46], line 1\u001b[0m\n\u001b[0;32m----> 1\u001b[0m \u001b[38;5;28;01mfrom\u001b[39;00m \u001b[38;5;21;01mneuralpiece\u001b[39;00m\u001b[38;5;21;01m.\u001b[39;00m\u001b[38;5;21;01mforward_backward\u001b[39;00m \u001b[38;5;28;01mimport\u001b[39;00m expected_counts\n",
      "\u001b[0;31mImportError\u001b[0m: cannot import name 'expected_counts' from 'neuralpiece.forward_backward' (/lnet/troja/projects/neuralpiece/notebooks/neuralpiece/forward_backward.py)"
     ]
    }
   ],
   "source": [
    "from neuralpiece.forward_backward import expected_counts"
   ]
  },
  {
   "cell_type": "code",
   "execution_count": 43,
   "id": "e457255b",
   "metadata": {},
   "outputs": [
    {
     "data": {
      "text/plain": [
       "[('hokejový', -9.34614749411162), ('hoke jový', -11.621097727517697)]"
      ]
     },
     "execution_count": 43,
     "metadata": {},
     "output_type": "execute_result"
    }
   ],
   "source": [
    "try_segment(\"hokejový\", n_samples=100)"
   ]
  },
  {
   "cell_type": "code",
   "execution_count": 72,
   "id": "c2f9ba70",
   "metadata": {
    "collapsed": true,
    "jupyter": {
     "outputs_hidden": true
    }
   },
   "outputs": [
    {
     "data": {
      "text/plain": [
       "[('vše mohoucí', 0.7177633477957808),\n",
       " ('vše mo houcí', 0.7288197056583124),\n",
       " ('všem ohoucí', 0.735930218139992),\n",
       " ('vš emo houcí', 0.7372167618386521),\n",
       " ('vš emohoucí', 0.742135131874113),\n",
       " ('všemo houcí', 0.7445305217825682),\n",
       " ('vš emohou cí', 0.761853820436603),\n",
       " ('vše m ohoucí', 0.76458741457057),\n",
       " ('vše mohouc í', 0.7649684256421766),\n",
       " ('všem oho ucí', 0.7691480688547919),\n",
       " ('vš emo ho ucí', 0.7734113134161034),\n",
       " ('vš emoh oucí', 0.7747657854435128),\n",
       " ('všem ohouc í', 0.7770731933690808),\n",
       " ('vš emohouc í', 0.7812391237607539),\n",
       " ('všemo houc í', 0.7827739000565325),\n",
       " ('vše mohou cí', 0.783774622230163),\n",
       " ('vše moh oucí', 0.7868120565083477),\n",
       " ('v šem ohoucí', 0.7876322892303028),\n",
       " ('vš emoh ouc í', 0.7879234861146838),\n",
       " ('všem ohou cí', 0.789031637476768),\n",
       " ('v še mohoucí', 0.7900843113594765),\n",
       " ('v š emo houcí', 0.7919571661348475),\n",
       " ('v šemo houcí', 0.7929032724711673),\n",
       " ('v šem oh oucí', 0.794341075767783),\n",
       " ('vše moho ucí', 0.7954051085275736),\n",
       " ('v šem oho ucí', 0.799620159493825),\n",
       " ('vš emohou c í', 0.8040913277434669),\n",
       " ('všemo h oucí', 0.8051991845671388),\n",
       " ('v šemo houc í', 0.8094926185044908),\n",
       " ('v šemohou cí', 0.8101713217546244),\n",
       " ('v š emohoucí', 0.8134828809238864),\n",
       " ('v šemo ho ucí', 0.8151761963904898),\n",
       " ('všem o houcí', 0.815775387932212),\n",
       " ('v šemoho ucí', 0.820911861792427),\n",
       " ('v šemoh oucí', 0.8232580871299423),\n",
       " ('v še moho ucí', 0.8302353910173972),\n",
       " ('v šemohouc í', 0.8368918380906768)]"
      ]
     },
     "execution_count": 72,
     "metadata": {},
     "output_type": "execute_result"
    }
   ],
   "source": [
    "try_segment(\"všemohoucí\", freq_weight=1)"
   ]
  },
  {
   "cell_type": "code",
   "execution_count": 80,
   "id": "a453decc",
   "metadata": {
    "collapsed": true,
    "jupyter": {
     "outputs_hidden": true
    }
   },
   "outputs": [
    {
     "data": {
      "text/plain": [
       "[('Hokejista', 0.7815737128257751),\n",
       " ('fotbalista', 0.7748795747756958),\n",
       " ('hokejový', 0.7478811144828796),\n",
       " ('basketbalista', 0.7446302175521851),\n",
       " ('sportovec', 0.7333778738975525),\n",
       " ('hráč', 0.7302396297454834),\n",
       " ('Jágr', 0.7297383546829224),\n",
       " ('útočník', 0.72944575548172),\n",
       " ('forvard', 0.7293649315834045),\n",
       " ('krasobruslař', 0.7186452150344849),\n",
       " ('olympionik', 0.7177209854125977),\n",
       " ('bruslař', 0.7146347761154175),\n",
       " ('odchovanec', 0.7041434049606323),\n",
       " ('zadák', 0.6981070637702942),\n",
       " ('bitkař', 0.6956697702407837),\n",
       " ('kanonýr', 0.6916385889053345),\n",
       " ('tvrďák', 0.6900885701179504),\n",
       " ('atlet', 0.6891803741455078),\n",
       " ('reprezentant', 0.6827546954154968),\n",
       " ('šikula', 0.680549681186676)]"
      ]
     },
     "execution_count": 80,
     "metadata": {},
     "output_type": "execute_result"
    }
   ],
   "source": [
    "fasttext.wv.most_similar(\"hokejista\", topn=20)"
   ]
  },
  {
   "cell_type": "code",
   "execution_count": 71,
   "id": "af99d4b5",
   "metadata": {},
   "outputs": [
    {
     "data": {
      "text/plain": [
       "[('o', 0.2090151608069004, 0.0),\n",
       " ('k', 0.21261804534090234, 0.0),\n",
       " ('e', 0.20749454175495774, 0.0),\n",
       " ('ok', 0.25524046078376594, 0.0),\n",
       " ('ke', 0.2679057940891988, 0.0),\n",
       " ('oke', 0.4245530125206245, 0.0),\n",
       " ('ho', 0.20918457498852494, 0.209184),\n",
       " ('kej', 0.4798513016513297, 0.209184),\n",
       " ('h', 0.21244079773179547, 0.21244),\n",
       " ('okej', 0.49715396622464514, 0.21244),\n",
       " ('j', 0.2255831990906667, 0.225583),\n",
       " ('hoke', 0.4980545983569453, 0.225583),\n",
       " ('ej', 0.24203071625930195, 0.24203),\n",
       " ('hok', 0.4549685024394131, 0.24203),\n",
       " ('hokej', 0.497990245283086, 0.49799)]"
      ]
     },
     "execution_count": 71,
     "metadata": {},
     "output_type": "execute_result"
    }
   ],
   "source": [
    "from scipy.sparse.csgraph import maximum_flow\n",
    "from scipy.sparse import csr_matrix\n",
    "\n",
    "def score_subwords_by_flow(word, scale=1000000):\n",
    "    vector = fasttext.wv[word]\n",
    "    subwords = get_substrings(word)\n",
    "    subword_scores = {\n",
    "        substr: 1 - distance.cosine(vector, subword_embeddings[subword2idx[substr]])\n",
    "        for substr in subwords}\n",
    "    subword_idx = {}\n",
    "    \n",
    "    graph_matrix = csr_matrix((len(word) + 1, len(word) + 1), dtype=int)\n",
    "    for i in range(len(word) + 1):\n",
    "        for j in range(i, len(word) + 1):\n",
    "            subword = word[i:j]\n",
    "            if not subword in subword_scores:\n",
    "                continue\n",
    "            subword_idx[subword] = (i, j)\n",
    "            graph_matrix[i, j] = int(scale * subword_scores[subword])\n",
    "            \n",
    "    flow = maximum_flow(graph_matrix, 0, len(word))\n",
    "    subword_flows = [(sub, subword_scores[sub], flow.flow[subword_idx[sub]] / scale) for sub in subwords]\n",
    "    \n",
    "    return sorted(subword_flows, key=lambda x: x[2])\n",
    "    \n",
    "score_subwords_by_flow(\"hokej\")"
   ]
  },
  {
   "cell_type": "code",
   "execution_count": 137,
   "id": "90eb0130",
   "metadata": {},
   "outputs": [
    {
     "data": {
      "text/plain": [
       "[('k', 0.27573386933442756, 0.0),\n",
       " ('o', 0.26976678538537924, 0.0),\n",
       " ('k', 0.27573386933442756, 0.0),\n",
       " ('o', 0.26976678538537924, 0.0),\n",
       " ('s', 0.2634236225142079, 0.0),\n",
       " ('o', 0.26976678538537924, 0.0),\n",
       " ('v', 0.26652513024653857, 0.0),\n",
       " ('ko', 0.28117371886235176, 0.0),\n",
       " ('ok', 0.30254341411143615, 0.0),\n",
       " ('ko', 0.28117371886235176, 0.0),\n",
       " ('os', 0.2769685500616067, 0.0),\n",
       " ('so', 0.2740604645557587, 0.0),\n",
       " ('ov', 0.2670259446811948, 0.0),\n",
       " ('oko', 0.2920192223040281, 0.0),\n",
       " ('kos', 0.3219955004880495, 0.0),\n",
       " ('oso', 0.2458218594931425, 0.0),\n",
       " ('sov', 0.20031801374429292, 0.0),\n",
       " ('okos', 0.34901423476430926, 0.0),\n",
       " ('koso', 0.3208508022923472, 0.0),\n",
       " ('osov', 0.31116523930097384, 0.0),\n",
       " ('okoso', 0.3339482637546354, 0.0),\n",
       " ('kosov', 0.31888464298232644, 0.0),\n",
       " ('okosov', 0.33356721839581915, 0.0),\n",
       " ('okosový', 0.3100058102402343, 0.275733),\n",
       " ('kosový', 0.31035020042224826, 0.281173),\n",
       " ('ý', 0.2973983504070741, 0.297398),\n",
       " ('kokosov', 0.33362547432413303, 0.297398),\n",
       " ('koko', 0.33679928530621484, 0.309341),\n",
       " ('sový', 0.3093414032952322, 0.309341),\n",
       " ('kokosový', 0.31002147421109183, 0.310021),\n",
       " ('vý', 0.3101112552204095, 0.310111),\n",
       " ('kokoso', 0.333682025097801, 0.310111),\n",
       " ('kok', 0.3604692546308381, 0.315273),\n",
       " ('osový', 0.3152737114018276, 0.315273),\n",
       " ('ový', 0.32433132550422095, 0.324331),\n",
       " ('kokos', 0.3442345557494495, 0.324331)]"
      ]
     },
     "execution_count": 137,
     "metadata": {},
     "output_type": "execute_result"
    }
   ],
   "source": [
    "score_subwords_by_flow(\"kokosový\")"
   ]
  },
  {
   "cell_type": "code",
   "execution_count": 97,
   "id": "b622adad",
   "metadata": {},
   "outputs": [],
   "source": [
    "def min_max_segment(word: str, vocab):\n",
    "\n",
    "    costs = [10000. for _ in range(len(word) + 1)]\n",
    "    prev = [0 for _ in word]\n",
    "\n",
    "    # First, dynamic programming\n",
    "    for i in range(1, len(word) + 1):\n",
    "        scores = []\n",
    "        indices = []\n",
    "        for j in range(i):\n",
    "            subword_candidate = word[j:i]\n",
    "            if subword_candidate in vocab:\n",
    "                new_cost = min(costs[j], vocab[subword_candidate])\n",
    "                scores.append(new_cost)\n",
    "                indices.append(j)\n",
    "                \n",
    "        if not scores:\n",
    "            costs[i] = -1000\n",
    "            prev[i - 1] = i - 1\n",
    "        else:\n",
    "            idx = max(range(len(scores)), key=lambda i: scores[i])\n",
    "\n",
    "            costs[i] = scores[idx]\n",
    "            prev[i - 1] = indices[idx]\n",
    "            \n",
    "    # Second, reconstrct the best options\n",
    "    subwords = []\n",
    "    idx = len(prev) - 1\n",
    "    while idx >= 0:\n",
    "        new_idx = prev[idx]\n",
    "        #if new_idx == 0:\n",
    "        #    break\n",
    "        subwords.append(word[new_idx:idx + 1])\n",
    "        idx = new_idx - 1\n",
    "    return list(reversed(subwords)), costs[-1]"
   ]
  },
  {
   "cell_type": "code",
   "execution_count": 120,
   "id": "77b8a937",
   "metadata": {},
   "outputs": [],
   "source": [
    "def try_segment_min_max(word):\n",
    "    vector = fasttext.wv[word]\n",
    "    subwords = get_substrings(word)\n",
    "    subword_scores = {\n",
    "        substr: 1-distance.cosine(vector, subword_embeddings[subword2idx[substr]])\n",
    "        for substr in subwords}\n",
    "\n",
    "    return min_max_segment(word, subword_scores)"
   ]
  },
  {
   "cell_type": "code",
   "execution_count": 138,
   "id": "60fa30b2",
   "metadata": {},
   "outputs": [
    {
     "data": {
      "text/plain": [
       "(['kokos', 'ový'], 0.32433132550422095)"
      ]
     },
     "execution_count": 138,
     "metadata": {},
     "output_type": "execute_result"
    }
   ],
   "source": [
    "try_segment_min_max(\"kokosový\")"
   ]
  },
  {
   "cell_type": "code",
   "execution_count": 133,
   "id": "8bf8e8aa",
   "metadata": {},
   "outputs": [
    {
     "data": {
      "text/plain": [
       "['muravský',\n",
       " 'Úryvky',\n",
       " 'dominantami',\n",
       " 'opilcem',\n",
       " 'raškovicích',\n",
       " 'záložnami',\n",
       " 'otáhalová',\n",
       " 'zapotit',\n",
       " 'demokraciím',\n",
       " 'psychotické']"
      ]
     },
     "execution_count": 133,
     "metadata": {},
     "output_type": "execute_result"
    }
   ],
   "source": [
    "fasttext.wv.index_to_key[-20:-10]"
   ]
  }
 ],
 "metadata": {
  "kernelspec": {
   "display_name": "Python 3 (ipykernel)",
   "language": "python",
   "name": "python3"
  },
  "language_info": {
   "codemirror_mode": {
    "name": "ipython",
    "version": 3
   },
   "file_extension": ".py",
   "mimetype": "text/x-python",
   "name": "python",
   "nbconvert_exporter": "python",
   "pygments_lexer": "ipython3",
   "version": "3.10.12"
  }
 },
 "nbformat": 4,
 "nbformat_minor": 5
}
